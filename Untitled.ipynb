{
 "cells": [
  {
   "cell_type": "code",
   "execution_count": 1,
   "id": "18730257",
   "metadata": {},
   "outputs": [
    {
     "name": "stderr",
     "output_type": "stream",
     "text": [
      "Matplotlib is building the font cache; this may take a moment.\n"
     ]
    }
   ],
   "source": [
    "import numpy as np\n",
    "import pandas as pd\n",
    "import matplotlib.pyplot as plt\n",
    "import seaborn as sns"
   ]
  },
  {
   "cell_type": "code",
   "execution_count": 2,
   "id": "b1ca5512",
   "metadata": {},
   "outputs": [],
   "source": [
    "df = pd.read_csv('./pokemon.csv')"
   ]
  },
  {
   "cell_type": "code",
   "execution_count": 3,
   "id": "15563ee0",
   "metadata": {},
   "outputs": [
    {
     "data": {
      "text/html": [
       "<div>\n",
       "<style scoped>\n",
       "    .dataframe tbody tr th:only-of-type {\n",
       "        vertical-align: middle;\n",
       "    }\n",
       "\n",
       "    .dataframe tbody tr th {\n",
       "        vertical-align: top;\n",
       "    }\n",
       "\n",
       "    .dataframe thead th {\n",
       "        text-align: right;\n",
       "    }\n",
       "</style>\n",
       "<table border=\"1\" class=\"dataframe\">\n",
       "  <thead>\n",
       "    <tr style=\"text-align: right;\">\n",
       "      <th></th>\n",
       "      <th>#</th>\n",
       "      <th>Name</th>\n",
       "      <th>Type 1</th>\n",
       "      <th>Type 2</th>\n",
       "      <th>Total</th>\n",
       "      <th>HP</th>\n",
       "      <th>Attack</th>\n",
       "      <th>Defense</th>\n",
       "      <th>Sp. Atk</th>\n",
       "      <th>Sp. Def</th>\n",
       "      <th>Speed</th>\n",
       "      <th>Generation</th>\n",
       "      <th>Legendary</th>\n",
       "    </tr>\n",
       "  </thead>\n",
       "  <tbody>\n",
       "    <tr>\n",
       "      <th>0</th>\n",
       "      <td>1</td>\n",
       "      <td>Bulbasaur</td>\n",
       "      <td>Grass</td>\n",
       "      <td>Poison</td>\n",
       "      <td>318</td>\n",
       "      <td>45</td>\n",
       "      <td>49</td>\n",
       "      <td>49</td>\n",
       "      <td>65</td>\n",
       "      <td>65</td>\n",
       "      <td>45</td>\n",
       "      <td>1</td>\n",
       "      <td>False</td>\n",
       "    </tr>\n",
       "    <tr>\n",
       "      <th>1</th>\n",
       "      <td>2</td>\n",
       "      <td>Ivysaur</td>\n",
       "      <td>Grass</td>\n",
       "      <td>Poison</td>\n",
       "      <td>405</td>\n",
       "      <td>60</td>\n",
       "      <td>62</td>\n",
       "      <td>63</td>\n",
       "      <td>80</td>\n",
       "      <td>80</td>\n",
       "      <td>60</td>\n",
       "      <td>1</td>\n",
       "      <td>False</td>\n",
       "    </tr>\n",
       "    <tr>\n",
       "      <th>2</th>\n",
       "      <td>3</td>\n",
       "      <td>Venusaur</td>\n",
       "      <td>Grass</td>\n",
       "      <td>Poison</td>\n",
       "      <td>525</td>\n",
       "      <td>80</td>\n",
       "      <td>82</td>\n",
       "      <td>83</td>\n",
       "      <td>100</td>\n",
       "      <td>100</td>\n",
       "      <td>80</td>\n",
       "      <td>1</td>\n",
       "      <td>False</td>\n",
       "    </tr>\n",
       "    <tr>\n",
       "      <th>3</th>\n",
       "      <td>3</td>\n",
       "      <td>VenusaurMega Venusaur</td>\n",
       "      <td>Grass</td>\n",
       "      <td>Poison</td>\n",
       "      <td>625</td>\n",
       "      <td>80</td>\n",
       "      <td>100</td>\n",
       "      <td>123</td>\n",
       "      <td>122</td>\n",
       "      <td>120</td>\n",
       "      <td>80</td>\n",
       "      <td>1</td>\n",
       "      <td>False</td>\n",
       "    </tr>\n",
       "    <tr>\n",
       "      <th>4</th>\n",
       "      <td>4</td>\n",
       "      <td>Charmander</td>\n",
       "      <td>Fire</td>\n",
       "      <td>NaN</td>\n",
       "      <td>309</td>\n",
       "      <td>39</td>\n",
       "      <td>52</td>\n",
       "      <td>43</td>\n",
       "      <td>60</td>\n",
       "      <td>50</td>\n",
       "      <td>65</td>\n",
       "      <td>1</td>\n",
       "      <td>False</td>\n",
       "    </tr>\n",
       "  </tbody>\n",
       "</table>\n",
       "</div>"
      ],
      "text/plain": [
       "   #                   Name Type 1  Type 2  Total  HP  Attack  Defense  \\\n",
       "0  1              Bulbasaur  Grass  Poison    318  45      49       49   \n",
       "1  2                Ivysaur  Grass  Poison    405  60      62       63   \n",
       "2  3               Venusaur  Grass  Poison    525  80      82       83   \n",
       "3  3  VenusaurMega Venusaur  Grass  Poison    625  80     100      123   \n",
       "4  4             Charmander   Fire     NaN    309  39      52       43   \n",
       "\n",
       "   Sp. Atk  Sp. Def  Speed  Generation  Legendary  \n",
       "0       65       65     45           1      False  \n",
       "1       80       80     60           1      False  \n",
       "2      100      100     80           1      False  \n",
       "3      122      120     80           1      False  \n",
       "4       60       50     65           1      False  "
      ]
     },
     "execution_count": 3,
     "metadata": {},
     "output_type": "execute_result"
    }
   ],
   "source": [
    "df.head()"
   ]
  },
  {
   "cell_type": "code",
   "execution_count": 5,
   "id": "dfcf0153",
   "metadata": {},
   "outputs": [
    {
     "data": {
      "text/plain": [
       "(800, 13)"
      ]
     },
     "execution_count": 5,
     "metadata": {},
     "output_type": "execute_result"
    }
   ],
   "source": [
    "df.shape"
   ]
  },
  {
   "cell_type": "code",
   "execution_count": 6,
   "id": "5865ffef",
   "metadata": {},
   "outputs": [
    {
     "data": {
      "text/plain": [
       "<bound method DataFrame.info of        #                   Name   Type 1  Type 2  Total  HP  Attack  Defense  \\\n",
       "0      1              Bulbasaur    Grass  Poison    318  45      49       49   \n",
       "1      2                Ivysaur    Grass  Poison    405  60      62       63   \n",
       "2      3               Venusaur    Grass  Poison    525  80      82       83   \n",
       "3      3  VenusaurMega Venusaur    Grass  Poison    625  80     100      123   \n",
       "4      4             Charmander     Fire     NaN    309  39      52       43   \n",
       "..   ...                    ...      ...     ...    ...  ..     ...      ...   \n",
       "795  719                Diancie     Rock   Fairy    600  50     100      150   \n",
       "796  719    DiancieMega Diancie     Rock   Fairy    700  50     160      110   \n",
       "797  720    HoopaHoopa Confined  Psychic   Ghost    600  80     110       60   \n",
       "798  720     HoopaHoopa Unbound  Psychic    Dark    680  80     160       60   \n",
       "799  721              Volcanion     Fire   Water    600  80     110      120   \n",
       "\n",
       "     Sp. Atk  Sp. Def  Speed  Generation  Legendary  \n",
       "0         65       65     45           1      False  \n",
       "1         80       80     60           1      False  \n",
       "2        100      100     80           1      False  \n",
       "3        122      120     80           1      False  \n",
       "4         60       50     65           1      False  \n",
       "..       ...      ...    ...         ...        ...  \n",
       "795      100      150     50           6       True  \n",
       "796      160      110    110           6       True  \n",
       "797      150      130     70           6       True  \n",
       "798      170      130     80           6       True  \n",
       "799      130       90     70           6       True  \n",
       "\n",
       "[800 rows x 13 columns]>"
      ]
     },
     "execution_count": 6,
     "metadata": {},
     "output_type": "execute_result"
    }
   ],
   "source": [
    "df.info"
   ]
  },
  {
   "cell_type": "code",
   "execution_count": 10,
   "id": "f134a772",
   "metadata": {},
   "outputs": [
    {
     "data": {
      "text/plain": [
       "0"
      ]
     },
     "execution_count": 10,
     "metadata": {},
     "output_type": "execute_result"
    }
   ],
   "source": [
    "df.duplicated().sum()"
   ]
  },
  {
   "cell_type": "code",
   "execution_count": 11,
   "id": "6491315f",
   "metadata": {},
   "outputs": [
    {
     "data": {
      "text/html": [
       "<div>\n",
       "<style scoped>\n",
       "    .dataframe tbody tr th:only-of-type {\n",
       "        vertical-align: middle;\n",
       "    }\n",
       "\n",
       "    .dataframe tbody tr th {\n",
       "        vertical-align: top;\n",
       "    }\n",
       "\n",
       "    .dataframe thead th {\n",
       "        text-align: right;\n",
       "    }\n",
       "</style>\n",
       "<table border=\"1\" class=\"dataframe\">\n",
       "  <thead>\n",
       "    <tr style=\"text-align: right;\">\n",
       "      <th></th>\n",
       "      <th>#</th>\n",
       "      <th>Name</th>\n",
       "      <th>Type 1</th>\n",
       "      <th>Type 2</th>\n",
       "      <th>Total</th>\n",
       "      <th>HP</th>\n",
       "      <th>Attack</th>\n",
       "      <th>Defense</th>\n",
       "      <th>Sp. Atk</th>\n",
       "      <th>Sp. Def</th>\n",
       "      <th>Speed</th>\n",
       "      <th>Generation</th>\n",
       "      <th>Legendary</th>\n",
       "    </tr>\n",
       "  </thead>\n",
       "  <tbody>\n",
       "  </tbody>\n",
       "</table>\n",
       "</div>"
      ],
      "text/plain": [
       "Empty DataFrame\n",
       "Columns: [#, Name, Type 1, Type 2, Total, HP, Attack, Defense, Sp. Atk, Sp. Def, Speed, Generation, Legendary]\n",
       "Index: []"
      ]
     },
     "execution_count": 11,
     "metadata": {},
     "output_type": "execute_result"
    }
   ],
   "source": [
    "df[df.duplicated()]"
   ]
  },
  {
   "cell_type": "code",
   "execution_count": 12,
   "id": "2cacbeb3",
   "metadata": {},
   "outputs": [
    {
     "data": {
      "text/html": [
       "<div>\n",
       "<style scoped>\n",
       "    .dataframe tbody tr th:only-of-type {\n",
       "        vertical-align: middle;\n",
       "    }\n",
       "\n",
       "    .dataframe tbody tr th {\n",
       "        vertical-align: top;\n",
       "    }\n",
       "\n",
       "    .dataframe thead th {\n",
       "        text-align: right;\n",
       "    }\n",
       "</style>\n",
       "<table border=\"1\" class=\"dataframe\">\n",
       "  <thead>\n",
       "    <tr style=\"text-align: right;\">\n",
       "      <th></th>\n",
       "      <th>#</th>\n",
       "      <th>Name</th>\n",
       "      <th>Type 1</th>\n",
       "      <th>Type 2</th>\n",
       "      <th>Total</th>\n",
       "      <th>HP</th>\n",
       "      <th>Attack</th>\n",
       "      <th>Defense</th>\n",
       "      <th>Sp. Atk</th>\n",
       "      <th>Sp. Def</th>\n",
       "      <th>Speed</th>\n",
       "      <th>Generation</th>\n",
       "      <th>Legendary</th>\n",
       "    </tr>\n",
       "  </thead>\n",
       "  <tbody>\n",
       "  </tbody>\n",
       "</table>\n",
       "</div>"
      ],
      "text/plain": [
       "Empty DataFrame\n",
       "Columns: [#, Name, Type 1, Type 2, Total, HP, Attack, Defense, Sp. Atk, Sp. Def, Speed, Generation, Legendary]\n",
       "Index: []"
      ]
     },
     "execution_count": 12,
     "metadata": {},
     "output_type": "execute_result"
    }
   ],
   "source": [
    "df[df[\"Legendary\"]==\"True\"]"
   ]
  },
  {
   "cell_type": "code",
   "execution_count": 15,
   "id": "a6f914cb",
   "metadata": {},
   "outputs": [
    {
     "name": "stdout",
     "output_type": "stream",
     "text": [
      "65\n"
     ]
    }
   ],
   "source": [
    "filtered_data = df[df[\"Legendary\"]==True]\n",
    "print(len(filtered_data))"
   ]
  },
  {
   "cell_type": "code",
   "execution_count": 16,
   "id": "1e5e5e69",
   "metadata": {},
   "outputs": [
    {
     "name": "stdout",
     "output_type": "stream",
     "text": [
      "190\n"
     ]
    }
   ],
   "source": [
    "print(df['Attack'].max())"
   ]
  },
  {
   "cell_type": "code",
   "execution_count": 17,
   "id": "4f41ff58",
   "metadata": {},
   "outputs": [
    {
     "name": "stdout",
     "output_type": "stream",
     "text": [
      "163\n",
      "MewtwoMega Mewtwo X\n"
     ]
    }
   ],
   "source": [
    "i = df['Attack'].idxmax()\n",
    "print(i)\n",
    "print(df['Name'][i])"
   ]
  },
  {
   "cell_type": "code",
   "execution_count": 20,
   "id": "b6d26295",
   "metadata": {},
   "outputs": [
    {
     "name": "stdout",
     "output_type": "stream",
     "text": [
      "#                             150\n",
      "Name          MewtwoMega Mewtwo X\n",
      "Type 1                    Psychic\n",
      "Type 2                   Fighting\n",
      "Total                         780\n",
      "HP                            106\n",
      "Attack                        190\n",
      "Defense                       100\n",
      "Sp. Atk                       154\n",
      "Sp. Def                       100\n",
      "Speed                         130\n",
      "Generation                      1\n",
      "Legendary                    True\n",
      "Name: 163, dtype: object\n"
     ]
    }
   ],
   "source": [
    "print(df.iloc[163])"
   ]
  },
  {
   "cell_type": "code",
   "execution_count": 22,
   "id": "0772f020",
   "metadata": {},
   "outputs": [
    {
     "name": "stdout",
     "output_type": "stream",
     "text": [
      "316\n",
      "Shedinja\n"
     ]
    }
   ],
   "source": [
    "i = df['HP'].idxmin()\n",
    "print(i)\n",
    "print(df['Name'][i])"
   ]
  },
  {
   "cell_type": "code",
   "execution_count": 23,
   "id": "d5e9bb3a",
   "metadata": {},
   "outputs": [
    {
     "name": "stdout",
     "output_type": "stream",
     "text": [
      "#                  292\n",
      "Name          Shedinja\n",
      "Type 1             Bug\n",
      "Type 2           Ghost\n",
      "Total              236\n",
      "HP                   1\n",
      "Attack              90\n",
      "Defense             45\n",
      "Sp. Atk             30\n",
      "Sp. Def             30\n",
      "Speed               40\n",
      "Generation           3\n",
      "Legendary        False\n",
      "Name: 316, dtype: object\n"
     ]
    }
   ],
   "source": [
    "print(df.iloc[316])"
   ]
  },
  {
   "cell_type": "code",
   "execution_count": 24,
   "id": "44c82deb",
   "metadata": {},
   "outputs": [
    {
     "name": "stdout",
     "output_type": "stream",
     "text": [
      "166\n"
     ]
    }
   ],
   "source": [
    "filtered_data1 = df[df[\"Generation\"]==1]\n",
    "print(len(filtered_data1))"
   ]
  },
  {
   "cell_type": "code",
   "execution_count": 25,
   "id": "296d8bc4",
   "metadata": {},
   "outputs": [
    {
     "name": "stdout",
     "output_type": "stream",
     "text": [
      "106\n"
     ]
    }
   ],
   "source": [
    "filtered_data2 = df[df[\"Generation\"]==2]\n",
    "print(len(filtered_data2))"
   ]
  },
  {
   "cell_type": "code",
   "execution_count": 26,
   "id": "11cdab4a",
   "metadata": {},
   "outputs": [
    {
     "name": "stdout",
     "output_type": "stream",
     "text": [
      "160\n"
     ]
    }
   ],
   "source": [
    "filtered_data3 = df[df[\"Generation\"]==3]\n",
    "print(len(filtered_data3))"
   ]
  },
  {
   "cell_type": "code",
   "execution_count": 27,
   "id": "b4f28356",
   "metadata": {},
   "outputs": [
    {
     "name": "stdout",
     "output_type": "stream",
     "text": [
      "121\n"
     ]
    }
   ],
   "source": [
    "filtered_data4 = df[df[\"Generation\"]==4]\n",
    "print(len(filtered_data4))"
   ]
  },
  {
   "cell_type": "code",
   "execution_count": 28,
   "id": "5b858302",
   "metadata": {},
   "outputs": [
    {
     "name": "stdout",
     "output_type": "stream",
     "text": [
      "165\n"
     ]
    }
   ],
   "source": [
    "filtered_data5 = df[df[\"Generation\"]==5]\n",
    "print(len(filtered_data5))"
   ]
  },
  {
   "cell_type": "code",
   "execution_count": 29,
   "id": "e04f3a53",
   "metadata": {},
   "outputs": [
    {
     "name": "stdout",
     "output_type": "stream",
     "text": [
      "82\n"
     ]
    }
   ],
   "source": [
    "filtered_data6 = df[df[\"Generation\"]==6]\n",
    "print(len(filtered_data6))"
   ]
  },
  {
   "cell_type": "code",
   "execution_count": 30,
   "id": "1de363f7",
   "metadata": {},
   "outputs": [
    {
     "data": {
      "text/html": [
       "<div>\n",
       "<style scoped>\n",
       "    .dataframe tbody tr th:only-of-type {\n",
       "        vertical-align: middle;\n",
       "    }\n",
       "\n",
       "    .dataframe tbody tr th {\n",
       "        vertical-align: top;\n",
       "    }\n",
       "\n",
       "    .dataframe thead th {\n",
       "        text-align: right;\n",
       "    }\n",
       "</style>\n",
       "<table border=\"1\" class=\"dataframe\">\n",
       "  <thead>\n",
       "    <tr style=\"text-align: right;\">\n",
       "      <th></th>\n",
       "      <th>#</th>\n",
       "      <th>Name</th>\n",
       "      <th>Type 1</th>\n",
       "      <th>Type 2</th>\n",
       "      <th>Total</th>\n",
       "      <th>HP</th>\n",
       "      <th>Attack</th>\n",
       "      <th>Defense</th>\n",
       "      <th>Sp. Atk</th>\n",
       "      <th>Sp. Def</th>\n",
       "      <th>Speed</th>\n",
       "      <th>Generation</th>\n",
       "      <th>Legendary</th>\n",
       "    </tr>\n",
       "  </thead>\n",
       "  <tbody>\n",
       "    <tr>\n",
       "      <th>0</th>\n",
       "      <td>479.0</td>\n",
       "      <td>Abomasnow</td>\n",
       "      <td>Water</td>\n",
       "      <td>Flying</td>\n",
       "      <td>600.0</td>\n",
       "      <td>60.0</td>\n",
       "      <td>100.0</td>\n",
       "      <td>70.0</td>\n",
       "      <td>60.0</td>\n",
       "      <td>80.0</td>\n",
       "      <td>50.0</td>\n",
       "      <td>1.0</td>\n",
       "      <td>False</td>\n",
       "    </tr>\n",
       "    <tr>\n",
       "      <th>1</th>\n",
       "      <td>NaN</td>\n",
       "      <td>AbomasnowMega Abomasnow</td>\n",
       "      <td>NaN</td>\n",
       "      <td>NaN</td>\n",
       "      <td>NaN</td>\n",
       "      <td>NaN</td>\n",
       "      <td>NaN</td>\n",
       "      <td>NaN</td>\n",
       "      <td>NaN</td>\n",
       "      <td>NaN</td>\n",
       "      <td>NaN</td>\n",
       "      <td>NaN</td>\n",
       "      <td>NaN</td>\n",
       "    </tr>\n",
       "    <tr>\n",
       "      <th>2</th>\n",
       "      <td>NaN</td>\n",
       "      <td>Abra</td>\n",
       "      <td>NaN</td>\n",
       "      <td>NaN</td>\n",
       "      <td>NaN</td>\n",
       "      <td>NaN</td>\n",
       "      <td>NaN</td>\n",
       "      <td>NaN</td>\n",
       "      <td>NaN</td>\n",
       "      <td>NaN</td>\n",
       "      <td>NaN</td>\n",
       "      <td>NaN</td>\n",
       "      <td>NaN</td>\n",
       "    </tr>\n",
       "    <tr>\n",
       "      <th>3</th>\n",
       "      <td>NaN</td>\n",
       "      <td>Absol</td>\n",
       "      <td>NaN</td>\n",
       "      <td>NaN</td>\n",
       "      <td>NaN</td>\n",
       "      <td>NaN</td>\n",
       "      <td>NaN</td>\n",
       "      <td>NaN</td>\n",
       "      <td>NaN</td>\n",
       "      <td>NaN</td>\n",
       "      <td>NaN</td>\n",
       "      <td>NaN</td>\n",
       "      <td>NaN</td>\n",
       "    </tr>\n",
       "    <tr>\n",
       "      <th>4</th>\n",
       "      <td>NaN</td>\n",
       "      <td>AbsolMega Absol</td>\n",
       "      <td>NaN</td>\n",
       "      <td>NaN</td>\n",
       "      <td>NaN</td>\n",
       "      <td>NaN</td>\n",
       "      <td>NaN</td>\n",
       "      <td>NaN</td>\n",
       "      <td>NaN</td>\n",
       "      <td>NaN</td>\n",
       "      <td>NaN</td>\n",
       "      <td>NaN</td>\n",
       "      <td>NaN</td>\n",
       "    </tr>\n",
       "    <tr>\n",
       "      <th>...</th>\n",
       "      <td>...</td>\n",
       "      <td>...</td>\n",
       "      <td>...</td>\n",
       "      <td>...</td>\n",
       "      <td>...</td>\n",
       "      <td>...</td>\n",
       "      <td>...</td>\n",
       "      <td>...</td>\n",
       "      <td>...</td>\n",
       "      <td>...</td>\n",
       "      <td>...</td>\n",
       "      <td>...</td>\n",
       "      <td>...</td>\n",
       "    </tr>\n",
       "    <tr>\n",
       "      <th>795</th>\n",
       "      <td>NaN</td>\n",
       "      <td>Zoroark</td>\n",
       "      <td>NaN</td>\n",
       "      <td>NaN</td>\n",
       "      <td>NaN</td>\n",
       "      <td>NaN</td>\n",
       "      <td>NaN</td>\n",
       "      <td>NaN</td>\n",
       "      <td>NaN</td>\n",
       "      <td>NaN</td>\n",
       "      <td>NaN</td>\n",
       "      <td>NaN</td>\n",
       "      <td>NaN</td>\n",
       "    </tr>\n",
       "    <tr>\n",
       "      <th>796</th>\n",
       "      <td>NaN</td>\n",
       "      <td>Zorua</td>\n",
       "      <td>NaN</td>\n",
       "      <td>NaN</td>\n",
       "      <td>NaN</td>\n",
       "      <td>NaN</td>\n",
       "      <td>NaN</td>\n",
       "      <td>NaN</td>\n",
       "      <td>NaN</td>\n",
       "      <td>NaN</td>\n",
       "      <td>NaN</td>\n",
       "      <td>NaN</td>\n",
       "      <td>NaN</td>\n",
       "    </tr>\n",
       "    <tr>\n",
       "      <th>797</th>\n",
       "      <td>NaN</td>\n",
       "      <td>Zubat</td>\n",
       "      <td>NaN</td>\n",
       "      <td>NaN</td>\n",
       "      <td>NaN</td>\n",
       "      <td>NaN</td>\n",
       "      <td>NaN</td>\n",
       "      <td>NaN</td>\n",
       "      <td>NaN</td>\n",
       "      <td>NaN</td>\n",
       "      <td>NaN</td>\n",
       "      <td>NaN</td>\n",
       "      <td>NaN</td>\n",
       "    </tr>\n",
       "    <tr>\n",
       "      <th>798</th>\n",
       "      <td>NaN</td>\n",
       "      <td>Zweilous</td>\n",
       "      <td>NaN</td>\n",
       "      <td>NaN</td>\n",
       "      <td>NaN</td>\n",
       "      <td>NaN</td>\n",
       "      <td>NaN</td>\n",
       "      <td>NaN</td>\n",
       "      <td>NaN</td>\n",
       "      <td>NaN</td>\n",
       "      <td>NaN</td>\n",
       "      <td>NaN</td>\n",
       "      <td>NaN</td>\n",
       "    </tr>\n",
       "    <tr>\n",
       "      <th>799</th>\n",
       "      <td>NaN</td>\n",
       "      <td>Zygarde50% Forme</td>\n",
       "      <td>NaN</td>\n",
       "      <td>NaN</td>\n",
       "      <td>NaN</td>\n",
       "      <td>NaN</td>\n",
       "      <td>NaN</td>\n",
       "      <td>NaN</td>\n",
       "      <td>NaN</td>\n",
       "      <td>NaN</td>\n",
       "      <td>NaN</td>\n",
       "      <td>NaN</td>\n",
       "      <td>NaN</td>\n",
       "    </tr>\n",
       "  </tbody>\n",
       "</table>\n",
       "<p>800 rows × 13 columns</p>\n",
       "</div>"
      ],
      "text/plain": [
       "         #                     Name Type 1  Type 2  Total    HP  Attack  \\\n",
       "0    479.0                Abomasnow  Water  Flying  600.0  60.0   100.0   \n",
       "1      NaN  AbomasnowMega Abomasnow    NaN     NaN    NaN   NaN     NaN   \n",
       "2      NaN                     Abra    NaN     NaN    NaN   NaN     NaN   \n",
       "3      NaN                    Absol    NaN     NaN    NaN   NaN     NaN   \n",
       "4      NaN          AbsolMega Absol    NaN     NaN    NaN   NaN     NaN   \n",
       "..     ...                      ...    ...     ...    ...   ...     ...   \n",
       "795    NaN                  Zoroark    NaN     NaN    NaN   NaN     NaN   \n",
       "796    NaN                    Zorua    NaN     NaN    NaN   NaN     NaN   \n",
       "797    NaN                    Zubat    NaN     NaN    NaN   NaN     NaN   \n",
       "798    NaN                 Zweilous    NaN     NaN    NaN   NaN     NaN   \n",
       "799    NaN         Zygarde50% Forme    NaN     NaN    NaN   NaN     NaN   \n",
       "\n",
       "     Defense  Sp. Atk  Sp. Def  Speed  Generation Legendary  \n",
       "0       70.0     60.0     80.0   50.0         1.0     False  \n",
       "1        NaN      NaN      NaN    NaN         NaN       NaN  \n",
       "2        NaN      NaN      NaN    NaN         NaN       NaN  \n",
       "3        NaN      NaN      NaN    NaN         NaN       NaN  \n",
       "4        NaN      NaN      NaN    NaN         NaN       NaN  \n",
       "..       ...      ...      ...    ...         ...       ...  \n",
       "795      NaN      NaN      NaN    NaN         NaN       NaN  \n",
       "796      NaN      NaN      NaN    NaN         NaN       NaN  \n",
       "797      NaN      NaN      NaN    NaN         NaN       NaN  \n",
       "798      NaN      NaN      NaN    NaN         NaN       NaN  \n",
       "799      NaN      NaN      NaN    NaN         NaN       NaN  \n",
       "\n",
       "[800 rows x 13 columns]"
      ]
     },
     "execution_count": 30,
     "metadata": {},
     "output_type": "execute_result"
    }
   ],
   "source": [
    "df.mode()"
   ]
  },
  {
   "cell_type": "code",
   "execution_count": 32,
   "id": "9fe52232",
   "metadata": {},
   "outputs": [
    {
     "name": "stdout",
     "output_type": "stream",
     "text": [
      "       #                     Name  Type 1  Type 2  Total  HP  Attack  Defense  \\\n",
      "702  641  TornadusIncarnate Forme  Flying     NaN    580  79     115       70   \n",
      "703  641    TornadusTherian Forme  Flying     NaN    580  79     100       80   \n",
      "790  714                   Noibat  Flying  Dragon    245  40      30       35   \n",
      "791  715                  Noivern  Flying  Dragon    535  85      70       80   \n",
      "\n",
      "     Sp. Atk  Sp. Def  Speed  Generation  Legendary  \n",
      "702      125       80    111           5       True  \n",
      "703      110       90    121           5       True  \n",
      "790       45       40     55           6      False  \n",
      "791       97       80    123           6      False  \n"
     ]
    }
   ],
   "source": [
    "filtered_data7 = df[df[\"Type 1\"]==\"Flying\"]\n",
    "print(filtered_data7)"
   ]
  },
  {
   "cell_type": "code",
   "execution_count": 33,
   "id": "c8fe97ba",
   "metadata": {},
   "outputs": [
    {
     "name": "stdout",
     "output_type": "stream",
     "text": [
      "       #                     Name   Type 1  Type 2  Total   HP  Attack  \\\n",
      "166  152                Chikorita    Grass     NaN    318   45      49   \n",
      "167  153                  Bayleef    Grass     NaN    405   60      62   \n",
      "168  154                 Meganium    Grass     NaN    525   80      82   \n",
      "169  155                Cyndaquil     Fire     NaN    309   39      52   \n",
      "170  156                  Quilava     Fire     NaN    405   58      64   \n",
      "..   ...                      ...      ...     ...    ...  ...     ...   \n",
      "267  248                Tyranitar     Rock    Dark    600  100     134   \n",
      "268  248  TyranitarMega Tyranitar     Rock    Dark    700  100     164   \n",
      "269  249                    Lugia  Psychic  Flying    680  106      90   \n",
      "270  250                    Ho-oh     Fire  Flying    680  106     130   \n",
      "271  251                   Celebi  Psychic   Grass    600  100     100   \n",
      "\n",
      "     Defense  Sp. Atk  Sp. Def  Speed  Generation  Legendary  \n",
      "166       65       49       65     45           2      False  \n",
      "167       80       63       80     60           2      False  \n",
      "168      100       83      100     80           2      False  \n",
      "169       43       60       50     65           2      False  \n",
      "170       58       80       65     80           2      False  \n",
      "..       ...      ...      ...    ...         ...        ...  \n",
      "267      110       95      100     61           2      False  \n",
      "268      150       95      120     71           2      False  \n",
      "269      130       90      154    110           2       True  \n",
      "270       90      110      154     90           2       True  \n",
      "271      100      100      100    100           2      False  \n",
      "\n",
      "[106 rows x 13 columns]\n"
     ]
    }
   ],
   "source": [
    "filtered_data8 = df[df[\"Generation\"]==2]\n",
    "print(filtered_data8)"
   ]
  },
  {
   "cell_type": "code",
   "execution_count": 34,
   "id": "3ed82d39",
   "metadata": {},
   "outputs": [
    {
     "name": "stdout",
     "output_type": "stream",
     "text": [
      "       #                     Name    Type 1 Type 2  Total   HP  Attack  \\\n",
      "44    39               Jigglypuff    Normal  Fairy    270  115      45   \n",
      "45    40               Wigglytuff    Normal  Fairy    435  140      70   \n",
      "131  122                 Mr. Mime   Psychic  Fairy    460   40      45   \n",
      "188  174                Igglybuff    Normal  Fairy    210   90      30   \n",
      "198  183                   Marill     Water  Fairy    250   70      20   \n",
      "199  184                Azumarill     Water  Fairy    420  100      50   \n",
      "303  280                    Ralts   Psychic  Fairy    198   28      25   \n",
      "304  281                   Kirlia   Psychic  Fairy    278   38      35   \n",
      "305  282                Gardevoir   Psychic  Fairy    518   68      65   \n",
      "306  282  GardevoirMega Gardevoir   Psychic  Fairy    618   68      85   \n",
      "322  298                  Azurill    Normal  Fairy    190   50      20   \n",
      "328  303                   Mawile     Steel  Fairy    380   50      85   \n",
      "329  303        MawileMega Mawile     Steel  Fairy    480   50     105   \n",
      "366  334      AltariaMega Altaria    Dragon  Fairy    590   75     110   \n",
      "487  439                 Mime Jr.   Psychic  Fairy    310   20      25   \n",
      "591  531        AudinoMega Audino    Normal  Fairy    545  103      60   \n",
      "606  546                 Cottonee     Grass  Fairy    280   40      27   \n",
      "607  547               Whimsicott     Grass  Fairy    480   60      67   \n",
      "772  702                  Dedenne  Electric  Fairy    431   67      58   \n",
      "773  703                  Carbink      Rock  Fairy    500   50      50   \n",
      "777  707                   Klefki     Steel  Fairy    470   57      80   \n",
      "795  719                  Diancie      Rock  Fairy    600   50     100   \n",
      "796  719      DiancieMega Diancie      Rock  Fairy    700   50     160   \n",
      "\n",
      "     Defense  Sp. Atk  Sp. Def  Speed  Generation  Legendary  \n",
      "44        20       45       25     20           1      False  \n",
      "45        45       85       50     45           1      False  \n",
      "131       65      100      120     90           1      False  \n",
      "188       15       40       20     15           2      False  \n",
      "198       50       20       50     40           2      False  \n",
      "199       80       60       80     50           2      False  \n",
      "303       25       45       35     40           3      False  \n",
      "304       35       65       55     50           3      False  \n",
      "305       65      125      115     80           3      False  \n",
      "306       65      165      135    100           3      False  \n",
      "322       40       20       40     20           3      False  \n",
      "328       85       55       55     50           3      False  \n",
      "329      125       55       95     50           3      False  \n",
      "366      110      110      105     80           3      False  \n",
      "487       45       70       90     60           4      False  \n",
      "591      126       80      126     50           5      False  \n",
      "606       60       37       50     66           5      False  \n",
      "607       85       77       75    116           5      False  \n",
      "772       57       81       67    101           6      False  \n",
      "773      150       50      150     50           6      False  \n",
      "777       91       80       87     75           6      False  \n",
      "795      150      100      150     50           6       True  \n",
      "796      110      160      110    110           6       True  \n"
     ]
    }
   ],
   "source": [
    "filtered_data9 = df[df[\"Type 2\"]==\"Fairy\"]\n",
    "print(filtered_data9)"
   ]
  },
  {
   "cell_type": "code",
   "execution_count": 35,
   "id": "78f23878",
   "metadata": {},
   "outputs": [
    {
     "name": "stdout",
     "output_type": "stream",
     "text": [
      "['Bulbasaur' 'Ivysaur' 'Venusaur' 'VenusaurMega Venusaur' 'Charmander'\n",
      " 'Charmeleon' 'Charizard' 'CharizardMega Charizard X'\n",
      " 'CharizardMega Charizard Y' 'Squirtle' 'Wartortle' 'Blastoise'\n",
      " 'BlastoiseMega Blastoise' 'Caterpie' 'Metapod' 'Butterfree' 'Weedle'\n",
      " 'Kakuna' 'Beedrill' 'BeedrillMega Beedrill' 'Pidgey' 'Pidgeotto'\n",
      " 'Pidgeot' 'PidgeotMega Pidgeot' 'Rattata' 'Raticate' 'Spearow' 'Fearow'\n",
      " 'Ekans' 'Arbok' 'Pikachu' 'Raichu' 'Sandshrew' 'Sandslash' 'Nidoran♀'\n",
      " 'Nidorina' 'Nidoqueen' 'Nidoran♂' 'Nidorino' 'Nidoking' 'Clefairy'\n",
      " 'Clefable' 'Vulpix' 'Ninetales' 'Jigglypuff' 'Wigglytuff' 'Zubat'\n",
      " 'Golbat' 'Oddish' 'Gloom' 'Vileplume' 'Paras' 'Parasect' 'Venonat'\n",
      " 'Venomoth' 'Diglett' 'Dugtrio' 'Meowth' 'Persian' 'Psyduck' 'Golduck'\n",
      " 'Mankey' 'Primeape' 'Growlithe' 'Arcanine' 'Poliwag' 'Poliwhirl'\n",
      " 'Poliwrath' 'Abra' 'Kadabra' 'Alakazam' 'AlakazamMega Alakazam' 'Machop'\n",
      " 'Machoke' 'Machamp' 'Bellsprout' 'Weepinbell' 'Victreebel' 'Tentacool'\n",
      " 'Tentacruel' 'Geodude' 'Graveler' 'Golem' 'Ponyta' 'Rapidash' 'Slowpoke'\n",
      " 'Slowbro' 'SlowbroMega Slowbro' 'Magnemite' 'Magneton' \"Farfetch'd\"\n",
      " 'Doduo' 'Dodrio' 'Seel' 'Dewgong' 'Grimer' 'Muk' 'Shellder' 'Cloyster'\n",
      " 'Gastly' 'Haunter' 'Gengar' 'GengarMega Gengar' 'Onix' 'Drowzee' 'Hypno'\n",
      " 'Krabby' 'Kingler' 'Voltorb' 'Electrode' 'Exeggcute' 'Exeggutor' 'Cubone'\n",
      " 'Marowak' 'Hitmonlee' 'Hitmonchan' 'Lickitung' 'Koffing' 'Weezing'\n",
      " 'Rhyhorn' 'Rhydon' 'Chansey' 'Tangela' 'Kangaskhan'\n",
      " 'KangaskhanMega Kangaskhan' 'Horsea' 'Seadra' 'Goldeen' 'Seaking'\n",
      " 'Staryu' 'Starmie' 'Mr. Mime' 'Scyther' 'Jynx' 'Electabuzz' 'Magmar'\n",
      " 'Pinsir' 'PinsirMega Pinsir' 'Tauros' 'Magikarp' 'Gyarados'\n",
      " 'GyaradosMega Gyarados' 'Lapras' 'Ditto' 'Eevee' 'Vaporeon' 'Jolteon'\n",
      " 'Flareon' 'Porygon' 'Omanyte' 'Omastar' 'Kabuto' 'Kabutops' 'Aerodactyl'\n",
      " 'AerodactylMega Aerodactyl' 'Snorlax' 'Articuno' 'Zapdos' 'Moltres'\n",
      " 'Dratini' 'Dragonair' 'Dragonite' 'Mewtwo' 'MewtwoMega Mewtwo X'\n",
      " 'MewtwoMega Mewtwo Y' 'Mew' 'Chikorita' 'Bayleef' 'Meganium' 'Cyndaquil'\n",
      " 'Quilava' 'Typhlosion' 'Totodile' 'Croconaw' 'Feraligatr' 'Sentret'\n",
      " 'Furret' 'Hoothoot' 'Noctowl' 'Ledyba' 'Ledian' 'Spinarak' 'Ariados'\n",
      " 'Crobat' 'Chinchou' 'Lanturn' 'Pichu' 'Cleffa' 'Igglybuff' 'Togepi'\n",
      " 'Togetic' 'Natu' 'Xatu' 'Mareep' 'Flaaffy' 'Ampharos'\n",
      " 'AmpharosMega Ampharos' 'Bellossom' 'Marill' 'Azumarill' 'Sudowoodo'\n",
      " 'Politoed' 'Hoppip' 'Skiploom' 'Jumpluff' 'Aipom' 'Sunkern' 'Sunflora'\n",
      " 'Yanma' 'Wooper' 'Quagsire' 'Espeon' 'Umbreon' 'Murkrow' 'Slowking'\n",
      " 'Misdreavus' 'Unown' 'Wobbuffet' 'Girafarig' 'Pineco' 'Forretress'\n",
      " 'Dunsparce' 'Gligar' 'Steelix' 'SteelixMega Steelix' 'Snubbull'\n",
      " 'Granbull' 'Qwilfish' 'Scizor' 'ScizorMega Scizor' 'Shuckle' 'Heracross'\n",
      " 'HeracrossMega Heracross' 'Sneasel' 'Teddiursa' 'Ursaring' 'Slugma'\n",
      " 'Magcargo' 'Swinub' 'Piloswine' 'Corsola' 'Remoraid' 'Octillery'\n",
      " 'Delibird' 'Mantine' 'Skarmory' 'Houndour' 'Houndoom'\n",
      " 'HoundoomMega Houndoom' 'Kingdra' 'Phanpy' 'Donphan' 'Porygon2'\n",
      " 'Stantler' 'Smeargle' 'Tyrogue' 'Hitmontop' 'Smoochum' 'Elekid' 'Magby'\n",
      " 'Miltank' 'Blissey' 'Raikou' 'Entei' 'Suicune' 'Larvitar' 'Pupitar'\n",
      " 'Tyranitar' 'TyranitarMega Tyranitar' 'Lugia' 'Ho-oh' 'Celebi' 'Treecko'\n",
      " 'Grovyle' 'Sceptile' 'SceptileMega Sceptile' 'Torchic' 'Combusken'\n",
      " 'Blaziken' 'BlazikenMega Blaziken' 'Mudkip' 'Marshtomp' 'Swampert'\n",
      " 'SwampertMega Swampert' 'Poochyena' 'Mightyena' 'Zigzagoon' 'Linoone'\n",
      " 'Wurmple' 'Silcoon' 'Beautifly' 'Cascoon' 'Dustox' 'Lotad' 'Lombre'\n",
      " 'Ludicolo' 'Seedot' 'Nuzleaf' 'Shiftry' 'Taillow' 'Swellow' 'Wingull'\n",
      " 'Pelipper' 'Ralts' 'Kirlia' 'Gardevoir' 'GardevoirMega Gardevoir'\n",
      " 'Surskit' 'Masquerain' 'Shroomish' 'Breloom' 'Slakoth' 'Vigoroth'\n",
      " 'Slaking' 'Nincada' 'Ninjask' 'Shedinja' 'Whismur' 'Loudred' 'Exploud'\n",
      " 'Makuhita' 'Hariyama' 'Azurill' 'Nosepass' 'Skitty' 'Delcatty' 'Sableye'\n",
      " 'SableyeMega Sableye' 'Mawile' 'MawileMega Mawile' 'Aron' 'Lairon'\n",
      " 'Aggron' 'AggronMega Aggron' 'Meditite' 'Medicham'\n",
      " 'MedichamMega Medicham' 'Electrike' 'Manectric' 'ManectricMega Manectric'\n",
      " 'Plusle' 'Minun' 'Volbeat' 'Illumise' 'Roselia' 'Gulpin' 'Swalot'\n",
      " 'Carvanha' 'Sharpedo' 'SharpedoMega Sharpedo' 'Wailmer' 'Wailord' 'Numel'\n",
      " 'Camerupt' 'CameruptMega Camerupt' 'Torkoal' 'Spoink' 'Grumpig' 'Spinda'\n",
      " 'Trapinch' 'Vibrava' 'Flygon' 'Cacnea' 'Cacturne' 'Swablu' 'Altaria'\n",
      " 'AltariaMega Altaria' 'Zangoose' 'Seviper' 'Lunatone' 'Solrock'\n",
      " 'Barboach' 'Whiscash' 'Corphish' 'Crawdaunt' 'Baltoy' 'Claydol' 'Lileep'\n",
      " 'Cradily' 'Anorith' 'Armaldo' 'Feebas' 'Milotic' 'Castform' 'Kecleon'\n",
      " 'Shuppet' 'Banette' 'BanetteMega Banette' 'Duskull' 'Dusclops' 'Tropius'\n",
      " 'Chimecho' 'Absol' 'AbsolMega Absol' 'Wynaut' 'Snorunt' 'Glalie'\n",
      " 'GlalieMega Glalie' 'Spheal' 'Sealeo' 'Walrein' 'Clamperl' 'Huntail'\n",
      " 'Gorebyss' 'Relicanth' 'Luvdisc' 'Bagon' 'Shelgon' 'Salamence'\n",
      " 'SalamenceMega Salamence' 'Beldum' 'Metang' 'Metagross'\n",
      " 'MetagrossMega Metagross' 'Regirock' 'Regice' 'Registeel' 'Latias'\n",
      " 'LatiasMega Latias' 'Latios' 'LatiosMega Latios' 'Kyogre'\n",
      " 'KyogrePrimal Kyogre' 'Groudon' 'GroudonPrimal Groudon' 'Rayquaza'\n",
      " 'RayquazaMega Rayquaza' 'Jirachi' 'DeoxysNormal Forme'\n",
      " 'DeoxysAttack Forme' 'DeoxysDefense Forme' 'DeoxysSpeed Forme' 'Turtwig'\n",
      " 'Grotle' 'Torterra' 'Chimchar' 'Monferno' 'Infernape' 'Piplup' 'Prinplup'\n",
      " 'Empoleon' 'Starly' 'Staravia' 'Staraptor' 'Bidoof' 'Bibarel' 'Kricketot'\n",
      " 'Kricketune' 'Shinx' 'Luxio' 'Luxray' 'Budew' 'Roserade' 'Cranidos'\n",
      " 'Rampardos' 'Shieldon' 'Bastiodon' 'Burmy' 'WormadamPlant Cloak'\n",
      " 'WormadamSandy Cloak' 'WormadamTrash Cloak' 'Mothim' 'Combee' 'Vespiquen'\n",
      " 'Pachirisu' 'Buizel' 'Floatzel' 'Cherubi' 'Cherrim' 'Shellos' 'Gastrodon'\n",
      " 'Ambipom' 'Drifloon' 'Drifblim' 'Buneary' 'Lopunny' 'LopunnyMega Lopunny'\n",
      " 'Mismagius' 'Honchkrow' 'Glameow' 'Purugly' 'Chingling' 'Stunky'\n",
      " 'Skuntank' 'Bronzor' 'Bronzong' 'Bonsly' 'Mime Jr.' 'Happiny' 'Chatot'\n",
      " 'Spiritomb' 'Gible' 'Gabite' 'Garchomp' 'GarchompMega Garchomp'\n",
      " 'Munchlax' 'Riolu' 'Lucario' 'LucarioMega Lucario' 'Hippopotas'\n",
      " 'Hippowdon' 'Skorupi' 'Drapion' 'Croagunk' 'Toxicroak' 'Carnivine'\n",
      " 'Finneon' 'Lumineon' 'Mantyke' 'Snover' 'Abomasnow'\n",
      " 'AbomasnowMega Abomasnow' 'Weavile' 'Magnezone' 'Lickilicky' 'Rhyperior'\n",
      " 'Tangrowth' 'Electivire' 'Magmortar' 'Togekiss' 'Yanmega' 'Leafeon'\n",
      " 'Glaceon' 'Gliscor' 'Mamoswine' 'Porygon-Z' 'Gallade'\n",
      " 'GalladeMega Gallade' 'Probopass' 'Dusknoir' 'Froslass' 'Rotom'\n",
      " 'RotomHeat Rotom' 'RotomWash Rotom' 'RotomFrost Rotom' 'RotomFan Rotom'\n",
      " 'RotomMow Rotom' 'Uxie' 'Mesprit' 'Azelf' 'Dialga' 'Palkia' 'Heatran'\n",
      " 'Regigigas' 'GiratinaAltered Forme' 'GiratinaOrigin Forme' 'Cresselia'\n",
      " 'Phione' 'Manaphy' 'Darkrai' 'ShayminLand Forme' 'ShayminSky Forme'\n",
      " 'Arceus' 'Victini' 'Snivy' 'Servine' 'Serperior' 'Tepig' 'Pignite'\n",
      " 'Emboar' 'Oshawott' 'Dewott' 'Samurott' 'Patrat' 'Watchog' 'Lillipup'\n",
      " 'Herdier' 'Stoutland' 'Purrloin' 'Liepard' 'Pansage' 'Simisage' 'Pansear'\n",
      " 'Simisear' 'Panpour' 'Simipour' 'Munna' 'Musharna' 'Pidove' 'Tranquill'\n",
      " 'Unfezant' 'Blitzle' 'Zebstrika' 'Roggenrola' 'Boldore' 'Gigalith'\n",
      " 'Woobat' 'Swoobat' 'Drilbur' 'Excadrill' 'Audino' 'AudinoMega Audino'\n",
      " 'Timburr' 'Gurdurr' 'Conkeldurr' 'Tympole' 'Palpitoad' 'Seismitoad'\n",
      " 'Throh' 'Sawk' 'Sewaddle' 'Swadloon' 'Leavanny' 'Venipede' 'Whirlipede'\n",
      " 'Scolipede' 'Cottonee' 'Whimsicott' 'Petilil' 'Lilligant' 'Basculin'\n",
      " 'Sandile' 'Krokorok' 'Krookodile' 'Darumaka' 'DarmanitanStandard Mode'\n",
      " 'DarmanitanZen Mode' 'Maractus' 'Dwebble' 'Crustle' 'Scraggy' 'Scrafty'\n",
      " 'Sigilyph' 'Yamask' 'Cofagrigus' 'Tirtouga' 'Carracosta' 'Archen'\n",
      " 'Archeops' 'Trubbish' 'Garbodor' 'Zorua' 'Zoroark' 'Minccino' 'Cinccino'\n",
      " 'Gothita' 'Gothorita' 'Gothitelle' 'Solosis' 'Duosion' 'Reuniclus'\n",
      " 'Ducklett' 'Swanna' 'Vanillite' 'Vanillish' 'Vanilluxe' 'Deerling'\n",
      " 'Sawsbuck' 'Emolga' 'Karrablast' 'Escavalier' 'Foongus' 'Amoonguss'\n",
      " 'Frillish' 'Jellicent' 'Alomomola' 'Joltik' 'Galvantula' 'Ferroseed'\n",
      " 'Ferrothorn' 'Klink' 'Klang' 'Klinklang' 'Tynamo' 'Eelektrik'\n",
      " 'Eelektross' 'Elgyem' 'Beheeyem' 'Litwick' 'Lampent' 'Chandelure' 'Axew'\n",
      " 'Fraxure' 'Haxorus' 'Cubchoo' 'Beartic' 'Cryogonal' 'Shelmet' 'Accelgor'\n",
      " 'Stunfisk' 'Mienfoo' 'Mienshao' 'Druddigon' 'Golett' 'Golurk' 'Pawniard'\n",
      " 'Bisharp' 'Bouffalant' 'Rufflet' 'Braviary' 'Vullaby' 'Mandibuzz'\n",
      " 'Heatmor' 'Durant' 'Deino' 'Zweilous' 'Hydreigon' 'Larvesta' 'Volcarona'\n",
      " 'Cobalion' 'Terrakion' 'Virizion' 'TornadusIncarnate Forme'\n",
      " 'TornadusTherian Forme' 'ThundurusIncarnate Forme'\n",
      " 'ThundurusTherian Forme' 'Reshiram' 'Zekrom' 'LandorusIncarnate Forme'\n",
      " 'LandorusTherian Forme' 'Kyurem' 'KyuremBlack Kyurem'\n",
      " 'KyuremWhite Kyurem' 'KeldeoOrdinary Forme' 'KeldeoResolute Forme'\n",
      " 'MeloettaAria Forme' 'MeloettaPirouette Forme' 'Genesect' 'Chespin'\n",
      " 'Quilladin' 'Chesnaught' 'Fennekin' 'Braixen' 'Delphox' 'Froakie'\n",
      " 'Frogadier' 'Greninja' 'Bunnelby' 'Diggersby' 'Fletchling' 'Fletchinder'\n",
      " 'Talonflame' 'Scatterbug' 'Spewpa' 'Vivillon' 'Litleo' 'Pyroar' 'Flabébé'\n",
      " 'Floette' 'Florges' 'Skiddo' 'Gogoat' 'Pancham' 'Pangoro' 'Furfrou'\n",
      " 'Espurr' 'MeowsticMale' 'MeowsticFemale' 'Honedge' 'Doublade'\n",
      " 'AegislashBlade Forme' 'AegislashShield Forme' 'Spritzee' 'Aromatisse'\n",
      " 'Swirlix' 'Slurpuff' 'Inkay' 'Malamar' 'Binacle' 'Barbaracle' 'Skrelp'\n",
      " 'Dragalge' 'Clauncher' 'Clawitzer' 'Helioptile' 'Heliolisk' 'Tyrunt'\n",
      " 'Tyrantrum' 'Amaura' 'Aurorus' 'Sylveon' 'Hawlucha' 'Dedenne' 'Carbink'\n",
      " 'Goomy' 'Sliggoo' 'Goodra' 'Klefki' 'Phantump' 'Trevenant'\n",
      " 'PumpkabooAverage Size' 'PumpkabooSmall Size' 'PumpkabooLarge Size'\n",
      " 'PumpkabooSuper Size' 'GourgeistAverage Size' 'GourgeistSmall Size'\n",
      " 'GourgeistLarge Size' 'GourgeistSuper Size' 'Bergmite' 'Avalugg' 'Noibat'\n",
      " 'Noivern' 'Xerneas' 'Yveltal' 'Zygarde50% Forme' 'Diancie'\n",
      " 'DiancieMega Diancie' 'HoopaHoopa Confined' 'HoopaHoopa Unbound'\n",
      " 'Volcanion']\n"
     ]
    }
   ],
   "source": [
    "print(df['Name'].unique())"
   ]
  },
  {
   "cell_type": "code",
   "execution_count": 36,
   "id": "deb55f1c",
   "metadata": {},
   "outputs": [
    {
     "name": "stdout",
     "output_type": "stream",
     "text": [
      "BulbasaurIvysaurVenusaurVenusaurMega VenusaurCharmanderCharmeleonCharizardCharizardMega Charizard XCharizardMega Charizard YSquirtleWartortleBlastoiseBlastoiseMega BlastoiseCaterpieMetapodButterfreeWeedleKakunaBeedrillBeedrillMega BeedrillPidgeyPidgeottoPidgeotPidgeotMega PidgeotRattataRaticateSpearowFearowEkansArbokPikachuRaichuSandshrewSandslashNidoran♀NidorinaNidoqueenNidoran♂NidorinoNidokingClefairyClefableVulpixNinetalesJigglypuffWigglytuffZubatGolbatOddishGloomVileplumeParasParasectVenonatVenomothDiglettDugtrioMeowthPersianPsyduckGolduckMankeyPrimeapeGrowlitheArcaninePoliwagPoliwhirlPoliwrathAbraKadabraAlakazamAlakazamMega AlakazamMachopMachokeMachampBellsproutWeepinbellVictreebelTentacoolTentacruelGeodudeGravelerGolemPonytaRapidashSlowpokeSlowbroSlowbroMega SlowbroMagnemiteMagnetonFarfetch'dDoduoDodrioSeelDewgongGrimerMukShellderCloysterGastlyHaunterGengarGengarMega GengarOnixDrowzeeHypnoKrabbyKinglerVoltorbElectrodeExeggcuteExeggutorCuboneMarowakHitmonleeHitmonchanLickitungKoffingWeezingRhyhornRhydonChanseyTangelaKangaskhanKangaskhanMega KangaskhanHorseaSeadraGoldeenSeakingStaryuStarmieMr. MimeScytherJynxElectabuzzMagmarPinsirPinsirMega PinsirTaurosMagikarpGyaradosGyaradosMega GyaradosLaprasDittoEeveeVaporeonJolteonFlareonPorygonOmanyteOmastarKabutoKabutopsAerodactylAerodactylMega AerodactylSnorlaxArticunoZapdosMoltresDratiniDragonairDragoniteMewtwoMewtwoMega Mewtwo XMewtwoMega Mewtwo YMewChikoritaBayleefMeganiumCyndaquilQuilavaTyphlosionTotodileCroconawFeraligatrSentretFurretHoothootNoctowlLedybaLedianSpinarakAriadosCrobatChinchouLanturnPichuCleffaIgglybuffTogepiTogeticNatuXatuMareepFlaaffyAmpharosAmpharosMega AmpharosBellossomMarillAzumarillSudowoodoPolitoedHoppipSkiploomJumpluffAipomSunkernSunfloraYanmaWooperQuagsireEspeonUmbreonMurkrowSlowkingMisdreavusUnownWobbuffetGirafarigPinecoForretressDunsparceGligarSteelixSteelixMega SteelixSnubbullGranbullQwilfishScizorScizorMega ScizorShuckleHeracrossHeracrossMega HeracrossSneaselTeddiursaUrsaringSlugmaMagcargoSwinubPiloswineCorsolaRemoraidOctilleryDelibirdMantineSkarmoryHoundourHoundoomHoundoomMega HoundoomKingdraPhanpyDonphanPorygon2StantlerSmeargleTyrogueHitmontopSmoochumElekidMagbyMiltankBlisseyRaikouEnteiSuicuneLarvitarPupitarTyranitarTyranitarMega TyranitarLugiaHo-ohCelebiTreeckoGrovyleSceptileSceptileMega SceptileTorchicCombuskenBlazikenBlazikenMega BlazikenMudkipMarshtompSwampertSwampertMega SwampertPoochyenaMightyenaZigzagoonLinooneWurmpleSilcoonBeautiflyCascoonDustoxLotadLombreLudicoloSeedotNuzleafShiftryTaillowSwellowWingullPelipperRaltsKirliaGardevoirGardevoirMega GardevoirSurskitMasquerainShroomishBreloomSlakothVigorothSlakingNincadaNinjaskShedinjaWhismurLoudredExploudMakuhitaHariyamaAzurillNosepassSkittyDelcattySableyeSableyeMega SableyeMawileMawileMega MawileAronLaironAggronAggronMega AggronMedititeMedichamMedichamMega MedichamElectrikeManectricManectricMega ManectricPlusleMinunVolbeatIllumiseRoseliaGulpinSwalotCarvanhaSharpedoSharpedoMega SharpedoWailmerWailordNumelCameruptCameruptMega CameruptTorkoalSpoinkGrumpigSpindaTrapinchVibravaFlygonCacneaCacturneSwabluAltariaAltariaMega AltariaZangooseSeviperLunatoneSolrockBarboachWhiscashCorphishCrawdauntBaltoyClaydolLileepCradilyAnorithArmaldoFeebasMiloticCastformKecleonShuppetBanetteBanetteMega BanetteDuskullDusclopsTropiusChimechoAbsolAbsolMega AbsolWynautSnoruntGlalieGlalieMega GlalieSphealSealeoWalreinClamperlHuntailGorebyssRelicanthLuvdiscBagonShelgonSalamenceSalamenceMega SalamenceBeldumMetangMetagrossMetagrossMega MetagrossRegirockRegiceRegisteelLatiasLatiasMega LatiasLatiosLatiosMega LatiosKyogreKyogrePrimal KyogreGroudonGroudonPrimal GroudonRayquazaRayquazaMega RayquazaJirachiDeoxysNormal FormeDeoxysAttack FormeDeoxysDefense FormeDeoxysSpeed FormeTurtwigGrotleTorterraChimcharMonfernoInfernapePiplupPrinplupEmpoleonStarlyStaraviaStaraptorBidoofBibarelKricketotKricketuneShinxLuxioLuxrayBudewRoseradeCranidosRampardosShieldonBastiodonBurmyWormadamPlant CloakWormadamSandy CloakWormadamTrash CloakMothimCombeeVespiquenPachirisuBuizelFloatzelCherubiCherrimShellosGastrodonAmbipomDrifloonDrifblimBunearyLopunnyLopunnyMega LopunnyMismagiusHonchkrowGlameowPuruglyChinglingStunkySkuntankBronzorBronzongBonslyMime Jr.HappinyChatotSpiritombGibleGabiteGarchompGarchompMega GarchompMunchlaxRioluLucarioLucarioMega LucarioHippopotasHippowdonSkorupiDrapionCroagunkToxicroakCarnivineFinneonLumineonMantykeSnoverAbomasnowAbomasnowMega AbomasnowWeavileMagnezoneLickilickyRhyperiorTangrowthElectivireMagmortarTogekissYanmegaLeafeonGlaceonGliscorMamoswinePorygon-ZGalladeGalladeMega GalladeProbopassDusknoirFroslassRotomRotomHeat RotomRotomWash RotomRotomFrost RotomRotomFan RotomRotomMow RotomUxieMespritAzelfDialgaPalkiaHeatranRegigigasGiratinaAltered FormeGiratinaOrigin FormeCresseliaPhioneManaphyDarkraiShayminLand FormeShayminSky FormeArceusVictiniSnivyServineSerperiorTepigPigniteEmboarOshawottDewottSamurottPatratWatchogLillipupHerdierStoutlandPurrloinLiepardPansageSimisagePansearSimisearPanpourSimipourMunnaMusharnaPidoveTranquillUnfezantBlitzleZebstrikaRoggenrolaBoldoreGigalithWoobatSwoobatDrilburExcadrillAudinoAudinoMega AudinoTimburrGurdurrConkeldurrTympolePalpitoadSeismitoadThrohSawkSewaddleSwadloonLeavannyVenipedeWhirlipedeScolipedeCottoneeWhimsicottPetililLilligantBasculinSandileKrokorokKrookodileDarumakaDarmanitanStandard ModeDarmanitanZen ModeMaractusDwebbleCrustleScraggyScraftySigilyphYamaskCofagrigusTirtougaCarracostaArchenArcheopsTrubbishGarbodorZoruaZoroarkMinccinoCinccinoGothitaGothoritaGothitelleSolosisDuosionReuniclusDucklettSwannaVanilliteVanillishVanilluxeDeerlingSawsbuckEmolgaKarrablastEscavalierFoongusAmoongussFrillishJellicentAlomomolaJoltikGalvantulaFerroseedFerrothornKlinkKlangKlinklangTynamoEelektrikEelektrossElgyemBeheeyemLitwickLampentChandelureAxewFraxureHaxorusCubchooBearticCryogonalShelmetAccelgorStunfiskMienfooMienshaoDruddigonGolettGolurkPawniardBisharpBouffalantRuffletBraviaryVullabyMandibuzzHeatmorDurantDeinoZweilousHydreigonLarvestaVolcaronaCobalionTerrakionVirizionTornadusIncarnate FormeTornadusTherian FormeThundurusIncarnate FormeThundurusTherian FormeReshiramZekromLandorusIncarnate FormeLandorusTherian FormeKyuremKyuremBlack KyuremKyuremWhite KyuremKeldeoOrdinary FormeKeldeoResolute FormeMeloettaAria FormeMeloettaPirouette FormeGenesectChespinQuilladinChesnaughtFennekinBraixenDelphoxFroakieFrogadierGreninjaBunnelbyDiggersbyFletchlingFletchinderTalonflameScatterbugSpewpaVivillonLitleoPyroarFlabébéFloetteFlorgesSkiddoGogoatPanchamPangoroFurfrouEspurrMeowsticMaleMeowsticFemaleHonedgeDoubladeAegislashBlade FormeAegislashShield FormeSpritzeeAromatisseSwirlixSlurpuffInkayMalamarBinacleBarbaracleSkrelpDragalgeClauncherClawitzerHelioptileHelioliskTyruntTyrantrumAmauraAurorusSylveonHawluchaDedenneCarbinkGoomySliggooGoodraKlefkiPhantumpTrevenantPumpkabooAverage SizePumpkabooSmall SizePumpkabooLarge SizePumpkabooSuper SizeGourgeistAverage SizeGourgeistSmall SizeGourgeistLarge SizeGourgeistSuper SizeBergmiteAvaluggNoibatNoivernXerneasYveltalZygarde50% FormeDiancieDiancieMega DiancieHoopaHoopa ConfinedHoopaHoopa UnboundVolcanion\n"
     ]
    }
   ],
   "source": [
    "print(df['Name'].unique().sum())"
   ]
  },
  {
   "cell_type": "code",
   "execution_count": null,
   "id": "7b7fecf1",
   "metadata": {},
   "outputs": [],
   "source": []
  }
 ],
 "metadata": {
  "kernelspec": {
   "display_name": "Python 3 (ipykernel)",
   "language": "python",
   "name": "python3"
  },
  "language_info": {
   "codemirror_mode": {
    "name": "ipython",
    "version": 3
   },
   "file_extension": ".py",
   "mimetype": "text/x-python",
   "name": "python",
   "nbconvert_exporter": "python",
   "pygments_lexer": "ipython3",
   "version": "3.9.12"
  }
 },
 "nbformat": 4,
 "nbformat_minor": 5
}
